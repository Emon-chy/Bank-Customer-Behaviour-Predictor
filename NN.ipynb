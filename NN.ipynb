{
 "cells": [
  {
   "cell_type": "code",
   "execution_count": 1,
   "metadata": {},
   "outputs": [],
   "source": [
    "# Importing the libraries\n",
    "import numpy as np\n",
    "import matplotlib.pyplot as plt\n",
    "import pandas as pd"
   ]
  },
  {
   "cell_type": "code",
   "execution_count": 2,
   "metadata": {},
   "outputs": [
    {
     "data": {
      "text/html": [
       "<div>\n",
       "<style scoped>\n",
       "    .dataframe tbody tr th:only-of-type {\n",
       "        vertical-align: middle;\n",
       "    }\n",
       "\n",
       "    .dataframe tbody tr th {\n",
       "        vertical-align: top;\n",
       "    }\n",
       "\n",
       "    .dataframe thead th {\n",
       "        text-align: right;\n",
       "    }\n",
       "</style>\n",
       "<table border=\"1\" class=\"dataframe\">\n",
       "  <thead>\n",
       "    <tr style=\"text-align: right;\">\n",
       "      <th></th>\n",
       "      <th>RowNumber</th>\n",
       "      <th>CustomerId</th>\n",
       "      <th>Surname</th>\n",
       "      <th>CreditScore</th>\n",
       "      <th>Geography</th>\n",
       "      <th>Gender</th>\n",
       "      <th>Age</th>\n",
       "      <th>Tenure</th>\n",
       "      <th>Balance</th>\n",
       "      <th>NumOfProducts</th>\n",
       "      <th>HasCrCard</th>\n",
       "      <th>IsActiveMember</th>\n",
       "      <th>EstimatedSalary</th>\n",
       "      <th>Exited</th>\n",
       "    </tr>\n",
       "  </thead>\n",
       "  <tbody>\n",
       "    <tr>\n",
       "      <th>0</th>\n",
       "      <td>1</td>\n",
       "      <td>15634602</td>\n",
       "      <td>Hargrave</td>\n",
       "      <td>619</td>\n",
       "      <td>France</td>\n",
       "      <td>Female</td>\n",
       "      <td>42</td>\n",
       "      <td>2</td>\n",
       "      <td>0.00</td>\n",
       "      <td>1</td>\n",
       "      <td>1</td>\n",
       "      <td>1</td>\n",
       "      <td>101348.88</td>\n",
       "      <td>1</td>\n",
       "    </tr>\n",
       "    <tr>\n",
       "      <th>1</th>\n",
       "      <td>2</td>\n",
       "      <td>15647311</td>\n",
       "      <td>Hill</td>\n",
       "      <td>608</td>\n",
       "      <td>Spain</td>\n",
       "      <td>Female</td>\n",
       "      <td>41</td>\n",
       "      <td>1</td>\n",
       "      <td>83807.86</td>\n",
       "      <td>1</td>\n",
       "      <td>0</td>\n",
       "      <td>1</td>\n",
       "      <td>112542.58</td>\n",
       "      <td>0</td>\n",
       "    </tr>\n",
       "    <tr>\n",
       "      <th>2</th>\n",
       "      <td>3</td>\n",
       "      <td>15619304</td>\n",
       "      <td>Onio</td>\n",
       "      <td>502</td>\n",
       "      <td>France</td>\n",
       "      <td>Female</td>\n",
       "      <td>42</td>\n",
       "      <td>8</td>\n",
       "      <td>159660.80</td>\n",
       "      <td>3</td>\n",
       "      <td>1</td>\n",
       "      <td>0</td>\n",
       "      <td>113931.57</td>\n",
       "      <td>1</td>\n",
       "    </tr>\n",
       "    <tr>\n",
       "      <th>3</th>\n",
       "      <td>4</td>\n",
       "      <td>15701354</td>\n",
       "      <td>Boni</td>\n",
       "      <td>699</td>\n",
       "      <td>France</td>\n",
       "      <td>Female</td>\n",
       "      <td>39</td>\n",
       "      <td>1</td>\n",
       "      <td>0.00</td>\n",
       "      <td>2</td>\n",
       "      <td>0</td>\n",
       "      <td>0</td>\n",
       "      <td>93826.63</td>\n",
       "      <td>0</td>\n",
       "    </tr>\n",
       "    <tr>\n",
       "      <th>4</th>\n",
       "      <td>5</td>\n",
       "      <td>15737888</td>\n",
       "      <td>Mitchell</td>\n",
       "      <td>850</td>\n",
       "      <td>Spain</td>\n",
       "      <td>Female</td>\n",
       "      <td>43</td>\n",
       "      <td>2</td>\n",
       "      <td>125510.82</td>\n",
       "      <td>1</td>\n",
       "      <td>1</td>\n",
       "      <td>1</td>\n",
       "      <td>79084.10</td>\n",
       "      <td>0</td>\n",
       "    </tr>\n",
       "  </tbody>\n",
       "</table>\n",
       "</div>"
      ],
      "text/plain": [
       "   RowNumber  CustomerId   Surname  CreditScore Geography  Gender  Age  \\\n",
       "0          1    15634602  Hargrave          619    France  Female   42   \n",
       "1          2    15647311      Hill          608     Spain  Female   41   \n",
       "2          3    15619304      Onio          502    France  Female   42   \n",
       "3          4    15701354      Boni          699    France  Female   39   \n",
       "4          5    15737888  Mitchell          850     Spain  Female   43   \n",
       "\n",
       "   Tenure    Balance  NumOfProducts  HasCrCard  IsActiveMember  \\\n",
       "0       2       0.00              1          1               1   \n",
       "1       1   83807.86              1          0               1   \n",
       "2       8  159660.80              3          1               0   \n",
       "3       1       0.00              2          0               0   \n",
       "4       2  125510.82              1          1               1   \n",
       "\n",
       "   EstimatedSalary  Exited  \n",
       "0        101348.88       1  \n",
       "1        112542.58       0  \n",
       "2        113931.57       1  \n",
       "3         93826.63       0  \n",
       "4         79084.10       0  "
      ]
     },
     "execution_count": 2,
     "metadata": {},
     "output_type": "execute_result"
    }
   ],
   "source": [
    "# Importing the dataset\n",
    "dataset = pd.read_csv('Churn_Modelling.csv')\n",
    "dataset.head()"
   ]
  },
  {
   "cell_type": "code",
   "execution_count": 3,
   "metadata": {},
   "outputs": [],
   "source": [
    "#separating features and label\n",
    "X = dataset.iloc[:, 3:13]\n",
    "y = dataset.iloc[:, 13]"
   ]
  },
  {
   "cell_type": "code",
   "execution_count": 4,
   "metadata": {},
   "outputs": [],
   "source": [
    "#Create dummy variables\n",
    "geography=pd.get_dummies(X[\"Geography\"],drop_first=True)\n",
    "gender=pd.get_dummies(X['Gender'],drop_first=True)"
   ]
  },
  {
   "cell_type": "code",
   "execution_count": 5,
   "metadata": {},
   "outputs": [],
   "source": [
    "#Concatenate the Data Frames\n",
    "X=pd.concat([X,geography,gender],axis=1)"
   ]
  },
  {
   "cell_type": "code",
   "execution_count": 6,
   "metadata": {},
   "outputs": [],
   "source": [
    "## Drop Unnecessary columns\n",
    "X=X.drop(['Geography','Gender'],axis=1)"
   ]
  },
  {
   "cell_type": "code",
   "execution_count": 7,
   "metadata": {},
   "outputs": [],
   "source": [
    "# Splitting the dataset into the Training set and Test set\n",
    "from sklearn.model_selection import train_test_split\n",
    "X_train, X_test, y_train, y_test = train_test_split(X, y, test_size = 0.2, random_state = 0)"
   ]
  },
  {
   "cell_type": "code",
   "execution_count": 8,
   "metadata": {},
   "outputs": [],
   "source": [
    "# Feature Scaling\n",
    "from sklearn.preprocessing import StandardScaler\n",
    "sc = StandardScaler()\n",
    "X_train = sc.fit_transform(X_train)\n",
    "X_test = sc.transform(X_test)"
   ]
  },
  {
   "cell_type": "code",
   "execution_count": 9,
   "metadata": {},
   "outputs": [
    {
     "name": "stderr",
     "output_type": "stream",
     "text": [
      "Using TensorFlow backend.\n",
      "C:\\Users\\ASUS\\anaconda3\\lib\\site-packages\\tensorflow\\python\\framework\\dtypes.py:516: FutureWarning: Passing (type, 1) or '1type' as a synonym of type is deprecated; in a future version of numpy, it will be understood as (type, (1,)) / '(1,)type'.\n",
      "  _np_qint8 = np.dtype([(\"qint8\", np.int8, 1)])\n",
      "C:\\Users\\ASUS\\anaconda3\\lib\\site-packages\\tensorflow\\python\\framework\\dtypes.py:517: FutureWarning: Passing (type, 1) or '1type' as a synonym of type is deprecated; in a future version of numpy, it will be understood as (type, (1,)) / '(1,)type'.\n",
      "  _np_quint8 = np.dtype([(\"quint8\", np.uint8, 1)])\n",
      "C:\\Users\\ASUS\\anaconda3\\lib\\site-packages\\tensorflow\\python\\framework\\dtypes.py:518: FutureWarning: Passing (type, 1) or '1type' as a synonym of type is deprecated; in a future version of numpy, it will be understood as (type, (1,)) / '(1,)type'.\n",
      "  _np_qint16 = np.dtype([(\"qint16\", np.int16, 1)])\n",
      "C:\\Users\\ASUS\\anaconda3\\lib\\site-packages\\tensorflow\\python\\framework\\dtypes.py:519: FutureWarning: Passing (type, 1) or '1type' as a synonym of type is deprecated; in a future version of numpy, it will be understood as (type, (1,)) / '(1,)type'.\n",
      "  _np_quint16 = np.dtype([(\"quint16\", np.uint16, 1)])\n",
      "C:\\Users\\ASUS\\anaconda3\\lib\\site-packages\\tensorflow\\python\\framework\\dtypes.py:520: FutureWarning: Passing (type, 1) or '1type' as a synonym of type is deprecated; in a future version of numpy, it will be understood as (type, (1,)) / '(1,)type'.\n",
      "  _np_qint32 = np.dtype([(\"qint32\", np.int32, 1)])\n",
      "C:\\Users\\ASUS\\anaconda3\\lib\\site-packages\\tensorflow\\python\\framework\\dtypes.py:525: FutureWarning: Passing (type, 1) or '1type' as a synonym of type is deprecated; in a future version of numpy, it will be understood as (type, (1,)) / '(1,)type'.\n",
      "  np_resource = np.dtype([(\"resource\", np.ubyte, 1)])\n",
      "C:\\Users\\ASUS\\anaconda3\\lib\\site-packages\\tensorboard\\compat\\tensorflow_stub\\dtypes.py:541: FutureWarning: Passing (type, 1) or '1type' as a synonym of type is deprecated; in a future version of numpy, it will be understood as (type, (1,)) / '(1,)type'.\n",
      "  _np_qint8 = np.dtype([(\"qint8\", np.int8, 1)])\n",
      "C:\\Users\\ASUS\\anaconda3\\lib\\site-packages\\tensorboard\\compat\\tensorflow_stub\\dtypes.py:542: FutureWarning: Passing (type, 1) or '1type' as a synonym of type is deprecated; in a future version of numpy, it will be understood as (type, (1,)) / '(1,)type'.\n",
      "  _np_quint8 = np.dtype([(\"quint8\", np.uint8, 1)])\n",
      "C:\\Users\\ASUS\\anaconda3\\lib\\site-packages\\tensorboard\\compat\\tensorflow_stub\\dtypes.py:543: FutureWarning: Passing (type, 1) or '1type' as a synonym of type is deprecated; in a future version of numpy, it will be understood as (type, (1,)) / '(1,)type'.\n",
      "  _np_qint16 = np.dtype([(\"qint16\", np.int16, 1)])\n",
      "C:\\Users\\ASUS\\anaconda3\\lib\\site-packages\\tensorboard\\compat\\tensorflow_stub\\dtypes.py:544: FutureWarning: Passing (type, 1) or '1type' as a synonym of type is deprecated; in a future version of numpy, it will be understood as (type, (1,)) / '(1,)type'.\n",
      "  _np_quint16 = np.dtype([(\"quint16\", np.uint16, 1)])\n",
      "C:\\Users\\ASUS\\anaconda3\\lib\\site-packages\\tensorboard\\compat\\tensorflow_stub\\dtypes.py:545: FutureWarning: Passing (type, 1) or '1type' as a synonym of type is deprecated; in a future version of numpy, it will be understood as (type, (1,)) / '(1,)type'.\n",
      "  _np_qint32 = np.dtype([(\"qint32\", np.int32, 1)])\n",
      "C:\\Users\\ASUS\\anaconda3\\lib\\site-packages\\tensorboard\\compat\\tensorflow_stub\\dtypes.py:550: FutureWarning: Passing (type, 1) or '1type' as a synonym of type is deprecated; in a future version of numpy, it will be understood as (type, (1,)) / '(1,)type'.\n",
      "  np_resource = np.dtype([(\"resource\", np.ubyte, 1)])\n"
     ]
    }
   ],
   "source": [
    "# Importing the Keras libraries and packages\n",
    "import keras\n",
    "from keras.models import Sequential\n",
    "from keras.layers import Dense\n",
    "from keras.layers import LeakyReLU,PReLU,ELU\n",
    "from keras.layers import Dropout"
   ]
  },
  {
   "cell_type": "code",
   "execution_count": 10,
   "metadata": {},
   "outputs": [
    {
     "name": "stderr",
     "output_type": "stream",
     "text": [
      "C:\\Users\\ASUS\\anaconda3\\lib\\site-packages\\ipykernel_launcher.py:5: UserWarning: Update your `Dense` call to the Keras 2 API: `Dense(activation=\"relu\", input_dim=11, units=6, kernel_initializer=\"he_uniform\")`\n",
      "  \"\"\"\n",
      "C:\\Users\\ASUS\\anaconda3\\lib\\site-packages\\ipykernel_launcher.py:8: UserWarning: Update your `Dense` call to the Keras 2 API: `Dense(activation=\"relu\", units=6, kernel_initializer=\"he_uniform\")`\n",
      "  \n",
      "C:\\Users\\ASUS\\anaconda3\\lib\\site-packages\\ipykernel_launcher.py:10: UserWarning: Update your `Dense` call to the Keras 2 API: `Dense(activation=\"sigmoid\", units=1, kernel_initializer=\"glorot_uniform\")`\n",
      "  # Remove the CWD from sys.path while we load stuff.\n"
     ]
    }
   ],
   "source": [
    "# Initialising the ANN\n",
    "classifier = Sequential()\n",
    "\n",
    "# Adding the input layer and the first hidden layer\n",
    "classifier.add(Dense(output_dim = 6, init = 'he_uniform',activation='relu',input_dim = 11))\n",
    "\n",
    "# Adding the second hidden layer\n",
    "classifier.add(Dense(output_dim = 6, init = 'he_uniform',activation='relu'))\n",
    "# Adding the output layer\n",
    "classifier.add(Dense(output_dim = 1, init = 'glorot_uniform', activation = 'sigmoid'))"
   ]
  },
  {
   "cell_type": "code",
   "execution_count": 11,
   "metadata": {},
   "outputs": [
    {
     "name": "stdout",
     "output_type": "stream",
     "text": [
      "WARNING:tensorflow:From C:\\Users\\ASUS\\anaconda3\\lib\\site-packages\\tensorflow\\python\\ops\\nn_impl.py:182: add_dispatch_support.<locals>.wrapper (from tensorflow.python.ops.array_ops) is deprecated and will be removed in a future version.\n",
      "Instructions for updating:\n",
      "Use tf.where in 2.0, which has the same broadcast rule as np.where\n"
     ]
    },
    {
     "name": "stderr",
     "output_type": "stream",
     "text": [
      "C:\\Users\\ASUS\\anaconda3\\lib\\site-packages\\ipykernel_launcher.py:5: UserWarning: The `nb_epoch` argument in `fit` has been renamed `epochs`.\n",
      "  \"\"\"\n"
     ]
    },
    {
     "name": "stdout",
     "output_type": "stream",
     "text": [
      "Train on 5359 samples, validate on 2641 samples\n",
      "Epoch 1/100\n",
      "5359/5359 [==============================] - 2s 388us/step - loss: 0.6879 - accuracy: 0.6328 - val_loss: 0.5261 - val_accuracy: 0.7970\n",
      "Epoch 2/100\n",
      "5359/5359 [==============================] - 2s 293us/step - loss: 0.4936 - accuracy: 0.8011 - val_loss: 0.4764 - val_accuracy: 0.7959\n",
      "Epoch 3/100\n",
      "5359/5359 [==============================] - 2s 298us/step - loss: 0.4597 - accuracy: 0.8003 - val_loss: 0.4541 - val_accuracy: 0.7993\n",
      "Epoch 4/100\n",
      "5359/5359 [==============================] - 3s 526us/step - loss: 0.4383 - accuracy: 0.8084 - val_loss: 0.4391 - val_accuracy: 0.8099\n",
      "Epoch 5/100\n",
      "5359/5359 [==============================] - 3s 503us/step - loss: 0.4222 - accuracy: 0.8166 - val_loss: 0.4268 - val_accuracy: 0.8145\n",
      "Epoch 6/100\n",
      "5359/5359 [==============================] - 3s 492us/step - loss: 0.4095 - accuracy: 0.8229 - val_loss: 0.4167 - val_accuracy: 0.8175\n",
      "Epoch 7/100\n",
      "5359/5359 [==============================] - 3s 501us/step - loss: 0.3984 - accuracy: 0.8280 - val_loss: 0.4079 - val_accuracy: 0.8198\n",
      "Epoch 8/100\n",
      "5359/5359 [==============================] - 2s 402us/step - loss: 0.3886 - accuracy: 0.8317 - val_loss: 0.4008 - val_accuracy: 0.8220\n",
      "Epoch 9/100\n",
      "5359/5359 [==============================] - 2s 445us/step - loss: 0.3801 - accuracy: 0.8337 - val_loss: 0.3945 - val_accuracy: 0.8262\n",
      "Epoch 10/100\n",
      "5359/5359 [==============================] - 2s 358us/step - loss: 0.3737 - accuracy: 0.8364 - val_loss: 0.3902 - val_accuracy: 0.8273\n",
      "Epoch 11/100\n",
      "5359/5359 [==============================] - 2s 446us/step - loss: 0.3684 - accuracy: 0.8405 - val_loss: 0.3861 - val_accuracy: 0.8315\n",
      "Epoch 12/100\n",
      "5359/5359 [==============================] - 2s 307us/step - loss: 0.3640 - accuracy: 0.8433 - val_loss: 0.3831 - val_accuracy: 0.8342\n",
      "Epoch 13/100\n",
      "5359/5359 [==============================] - 3s 505us/step - loss: 0.3611 - accuracy: 0.8485 - val_loss: 0.3812 - val_accuracy: 0.8360\n",
      "Epoch 14/100\n",
      "5359/5359 [==============================] - 2s 466us/step - loss: 0.3591 - accuracy: 0.8492 - val_loss: 0.3802 - val_accuracy: 0.8360\n",
      "Epoch 15/100\n",
      "5359/5359 [==============================] - 2s 445us/step - loss: 0.3571 - accuracy: 0.8498 - val_loss: 0.3796 - val_accuracy: 0.8364\n",
      "Epoch 16/100\n",
      "5359/5359 [==============================] - 1s 275us/step - loss: 0.3555 - accuracy: 0.8503 - val_loss: 0.3785 - val_accuracy: 0.8398\n",
      "Epoch 17/100\n",
      "5359/5359 [==============================] - 1s 279us/step - loss: 0.3541 - accuracy: 0.8505 - val_loss: 0.3777 - val_accuracy: 0.8395\n",
      "Epoch 18/100\n",
      "5359/5359 [==============================] - 1s 258us/step - loss: 0.3527 - accuracy: 0.8522 - val_loss: 0.3773 - val_accuracy: 0.8360\n",
      "Epoch 19/100\n",
      "5359/5359 [==============================] - 1s 259us/step - loss: 0.3517 - accuracy: 0.8509 - val_loss: 0.3760 - val_accuracy: 0.8406\n",
      "Epoch 20/100\n",
      "5359/5359 [==============================] - 1s 262us/step - loss: 0.3506 - accuracy: 0.8517 - val_loss: 0.3756 - val_accuracy: 0.8376\n",
      "Epoch 21/100\n",
      "5359/5359 [==============================] - 1s 272us/step - loss: 0.3495 - accuracy: 0.8539 - val_loss: 0.3750 - val_accuracy: 0.8379\n",
      "Epoch 22/100\n",
      "5359/5359 [==============================] - 2s 339us/step - loss: 0.3487 - accuracy: 0.8537 - val_loss: 0.3749 - val_accuracy: 0.8379\n",
      "Epoch 23/100\n",
      "5359/5359 [==============================] - 2s 428us/step - loss: 0.3478 - accuracy: 0.8543 - val_loss: 0.3738 - val_accuracy: 0.8391\n",
      "Epoch 24/100\n",
      "5359/5359 [==============================] - 2s 428us/step - loss: 0.3474 - accuracy: 0.8552 - val_loss: 0.3740 - val_accuracy: 0.8398\n",
      "Epoch 25/100\n",
      "5359/5359 [==============================] - 2s 455us/step - loss: 0.3472 - accuracy: 0.8558 - val_loss: 0.3733 - val_accuracy: 0.8417\n",
      "Epoch 26/100\n",
      "5359/5359 [==============================] - 2s 281us/step - loss: 0.3464 - accuracy: 0.8545 - val_loss: 0.3731 - val_accuracy: 0.8406\n",
      "Epoch 27/100\n",
      "5359/5359 [==============================] - 2s 413us/step - loss: 0.3460 - accuracy: 0.8559 - val_loss: 0.3731 - val_accuracy: 0.8402\n",
      "Epoch 28/100\n",
      "5359/5359 [==============================] - 2s 419us/step - loss: 0.3457 - accuracy: 0.8574 - val_loss: 0.3727 - val_accuracy: 0.8391\n",
      "Epoch 29/100\n",
      "5359/5359 [==============================] - 2s 442us/step - loss: 0.3454 - accuracy: 0.8563 - val_loss: 0.3729 - val_accuracy: 0.8398\n",
      "Epoch 30/100\n",
      "5359/5359 [==============================] - 2s 374us/step - loss: 0.3449 - accuracy: 0.8574 - val_loss: 0.3728 - val_accuracy: 0.8417\n",
      "Epoch 31/100\n",
      "5359/5359 [==============================] - 2s 441us/step - loss: 0.3448 - accuracy: 0.8552 - val_loss: 0.3724 - val_accuracy: 0.8410\n",
      "Epoch 32/100\n",
      "5359/5359 [==============================] - 2s 416us/step - loss: 0.3446 - accuracy: 0.8556 - val_loss: 0.3724 - val_accuracy: 0.8402\n",
      "Epoch 33/100\n",
      "5359/5359 [==============================] - 2s 374us/step - loss: 0.3441 - accuracy: 0.8569 - val_loss: 0.3721 - val_accuracy: 0.8406\n",
      "Epoch 34/100\n",
      "5359/5359 [==============================] - 2s 307us/step - loss: 0.3439 - accuracy: 0.8561 - val_loss: 0.3721 - val_accuracy: 0.8402\n",
      "Epoch 35/100\n",
      "5359/5359 [==============================] - 2s 317us/step - loss: 0.3436 - accuracy: 0.8563 - val_loss: 0.3717 - val_accuracy: 0.8421\n",
      "Epoch 36/100\n",
      "5359/5359 [==============================] - 2s 356us/step - loss: 0.3432 - accuracy: 0.8561 - val_loss: 0.3724 - val_accuracy: 0.8410\n",
      "Epoch 37/100\n",
      "5359/5359 [==============================] - 2s 344us/step - loss: 0.3429 - accuracy: 0.8567 - val_loss: 0.3713 - val_accuracy: 0.8410\n",
      "Epoch 38/100\n",
      "5359/5359 [==============================] - 2s 451us/step - loss: 0.3427 - accuracy: 0.8561 - val_loss: 0.3714 - val_accuracy: 0.8398\n",
      "Epoch 39/100\n",
      "5359/5359 [==============================] - 2s 403us/step - loss: 0.3426 - accuracy: 0.8558 - val_loss: 0.3714 - val_accuracy: 0.8417\n",
      "Epoch 40/100\n",
      "5359/5359 [==============================] - 2s 429us/step - loss: 0.3422 - accuracy: 0.8571 - val_loss: 0.3706 - val_accuracy: 0.8440\n",
      "Epoch 41/100\n",
      "5359/5359 [==============================] - 2s 392us/step - loss: 0.3421 - accuracy: 0.8572 - val_loss: 0.3713 - val_accuracy: 0.8410\n",
      "Epoch 42/100\n",
      "5359/5359 [==============================] - 3s 473us/step - loss: 0.3418 - accuracy: 0.8571 - val_loss: 0.3708 - val_accuracy: 0.8413\n",
      "Epoch 43/100\n",
      "5359/5359 [==============================] - 3s 509us/step - loss: 0.3417 - accuracy: 0.8578 - val_loss: 0.3709 - val_accuracy: 0.8417\n",
      "Epoch 44/100\n",
      "5359/5359 [==============================] - 2s 371us/step - loss: 0.3412 - accuracy: 0.8572 - val_loss: 0.3707 - val_accuracy: 0.8413\n",
      "Epoch 45/100\n",
      "5359/5359 [==============================] - 2s 444us/step - loss: 0.3409 - accuracy: 0.8582 - val_loss: 0.3703 - val_accuracy: 0.8410\n",
      "Epoch 46/100\n",
      "5359/5359 [==============================] - 2s 426us/step - loss: 0.3407 - accuracy: 0.8569 - val_loss: 0.3710 - val_accuracy: 0.8425\n",
      "Epoch 47/100\n",
      "5359/5359 [==============================] - 3s 504us/step - loss: 0.3405 - accuracy: 0.8580 - val_loss: 0.3702 - val_accuracy: 0.8417\n",
      "Epoch 48/100\n",
      "5359/5359 [==============================] - 2s 462us/step - loss: 0.3405 - accuracy: 0.8582 - val_loss: 0.3713 - val_accuracy: 0.8432\n",
      "Epoch 49/100\n",
      "5359/5359 [==============================] - 2s 408us/step - loss: 0.3402 - accuracy: 0.8584 - val_loss: 0.3700 - val_accuracy: 0.8406\n",
      "Epoch 50/100\n",
      "5359/5359 [==============================] - 2s 356us/step - loss: 0.3404 - accuracy: 0.8574 - val_loss: 0.3701 - val_accuracy: 0.8421\n",
      "Epoch 51/100\n",
      "5359/5359 [==============================] - 2s 466us/step - loss: 0.3400 - accuracy: 0.8586 - val_loss: 0.3705 - val_accuracy: 0.8417\n",
      "Epoch 52/100\n",
      "5359/5359 [==============================] - 2s 333us/step - loss: 0.3397 - accuracy: 0.8587 - val_loss: 0.3704 - val_accuracy: 0.8432\n",
      "Epoch 53/100\n",
      "5359/5359 [==============================] - 2s 400us/step - loss: 0.3394 - accuracy: 0.8586 - val_loss: 0.3718 - val_accuracy: 0.8413\n",
      "Epoch 54/100\n",
      "5359/5359 [==============================] - 2s 420us/step - loss: 0.3395 - accuracy: 0.8584 - val_loss: 0.3710 - val_accuracy: 0.8421\n",
      "Epoch 55/100\n",
      "5359/5359 [==============================] - 2s 327us/step - loss: 0.3394 - accuracy: 0.8578 - val_loss: 0.3711 - val_accuracy: 0.8417\n",
      "Epoch 56/100\n"
     ]
    },
    {
     "name": "stdout",
     "output_type": "stream",
     "text": [
      "5359/5359 [==============================] - 2s 321us/step - loss: 0.3391 - accuracy: 0.8586 - val_loss: 0.3715 - val_accuracy: 0.8402\n",
      "Epoch 57/100\n",
      "5359/5359 [==============================] - 2s 319us/step - loss: 0.3392 - accuracy: 0.8574 - val_loss: 0.3706 - val_accuracy: 0.8425\n",
      "Epoch 58/100\n",
      "5359/5359 [==============================] - 2s 321us/step - loss: 0.3389 - accuracy: 0.8574 - val_loss: 0.3709 - val_accuracy: 0.8417\n",
      "Epoch 59/100\n",
      "5359/5359 [==============================] - 2s 329us/step - loss: 0.3387 - accuracy: 0.8589 - val_loss: 0.3712 - val_accuracy: 0.8425\n",
      "Epoch 60/100\n",
      "5359/5359 [==============================] - 2s 304us/step - loss: 0.3386 - accuracy: 0.8574 - val_loss: 0.3706 - val_accuracy: 0.8429\n",
      "Epoch 61/100\n",
      "5359/5359 [==============================] - 2s 319us/step - loss: 0.3383 - accuracy: 0.8593 - val_loss: 0.3705 - val_accuracy: 0.8436\n",
      "Epoch 62/100\n",
      "5359/5359 [==============================] - 2s 308us/step - loss: 0.3383 - accuracy: 0.8576 - val_loss: 0.3705 - val_accuracy: 0.8432\n",
      "Epoch 63/100\n",
      "5359/5359 [==============================] - 2s 292us/step - loss: 0.3383 - accuracy: 0.8572 - val_loss: 0.3700 - val_accuracy: 0.8440\n",
      "Epoch 64/100\n",
      "5359/5359 [==============================] - 2s 305us/step - loss: 0.3380 - accuracy: 0.8580 - val_loss: 0.3703 - val_accuracy: 0.8440\n",
      "Epoch 65/100\n",
      "5359/5359 [==============================] - 2s 398us/step - loss: 0.3379 - accuracy: 0.8608 - val_loss: 0.3702 - val_accuracy: 0.8440\n",
      "Epoch 66/100\n",
      "5359/5359 [==============================] - 2s 314us/step - loss: 0.3378 - accuracy: 0.8593 - val_loss: 0.3702 - val_accuracy: 0.8451\n",
      "Epoch 67/100\n",
      "5359/5359 [==============================] - 2s 304us/step - loss: 0.3377 - accuracy: 0.8597 - val_loss: 0.3697 - val_accuracy: 0.8444\n",
      "Epoch 68/100\n",
      "5359/5359 [==============================] - 2s 351us/step - loss: 0.3376 - accuracy: 0.8587 - val_loss: 0.3707 - val_accuracy: 0.8444\n",
      "Epoch 69/100\n",
      "5359/5359 [==============================] - 2s 310us/step - loss: 0.3373 - accuracy: 0.8589 - val_loss: 0.3701 - val_accuracy: 0.8448\n",
      "Epoch 70/100\n",
      "5359/5359 [==============================] - 1s 266us/step - loss: 0.3374 - accuracy: 0.8612 - val_loss: 0.3705 - val_accuracy: 0.8425\n",
      "Epoch 71/100\n",
      "5359/5359 [==============================] - 1s 260us/step - loss: 0.3373 - accuracy: 0.8602 - val_loss: 0.3712 - val_accuracy: 0.8448\n",
      "Epoch 72/100\n",
      "5359/5359 [==============================] - 1s 272us/step - loss: 0.3371 - accuracy: 0.8597 - val_loss: 0.3700 - val_accuracy: 0.8432\n",
      "Epoch 73/100\n",
      "5359/5359 [==============================] - 1s 261us/step - loss: 0.3371 - accuracy: 0.8600 - val_loss: 0.3701 - val_accuracy: 0.8425\n",
      "Epoch 74/100\n",
      "5359/5359 [==============================] - 1s 258us/step - loss: 0.3371 - accuracy: 0.8595 - val_loss: 0.3709 - val_accuracy: 0.8451\n",
      "Epoch 75/100\n",
      "5359/5359 [==============================] - 1s 255us/step - loss: 0.3366 - accuracy: 0.8593 - val_loss: 0.3699 - val_accuracy: 0.8429\n",
      "Epoch 76/100\n",
      "5359/5359 [==============================] - 1s 258us/step - loss: 0.3369 - accuracy: 0.8599 - val_loss: 0.3702 - val_accuracy: 0.8444\n",
      "Epoch 77/100\n",
      "5359/5359 [==============================] - 1s 271us/step - loss: 0.3367 - accuracy: 0.8595 - val_loss: 0.3708 - val_accuracy: 0.8444\n",
      "Epoch 78/100\n",
      "5359/5359 [==============================] - 2s 290us/step - loss: 0.3368 - accuracy: 0.8597 - val_loss: 0.3706 - val_accuracy: 0.8444\n",
      "Epoch 79/100\n",
      "5359/5359 [==============================] - 1s 271us/step - loss: 0.3367 - accuracy: 0.8600 - val_loss: 0.3708 - val_accuracy: 0.8432\n",
      "Epoch 80/100\n",
      "5359/5359 [==============================] - 1s 270us/step - loss: 0.3366 - accuracy: 0.8600 - val_loss: 0.3707 - val_accuracy: 0.8444\n",
      "Epoch 81/100\n",
      "5359/5359 [==============================] - 1s 271us/step - loss: 0.3362 - accuracy: 0.8599 - val_loss: 0.3712 - val_accuracy: 0.8440\n",
      "Epoch 82/100\n",
      "5359/5359 [==============================] - 1s 268us/step - loss: 0.3363 - accuracy: 0.8591 - val_loss: 0.3706 - val_accuracy: 0.8451\n",
      "Epoch 83/100\n",
      "5359/5359 [==============================] - 1s 271us/step - loss: 0.3363 - accuracy: 0.8606 - val_loss: 0.3713 - val_accuracy: 0.8448\n",
      "Epoch 84/100\n",
      "5359/5359 [==============================] - 1s 268us/step - loss: 0.3360 - accuracy: 0.8606 - val_loss: 0.3699 - val_accuracy: 0.8440\n",
      "Epoch 85/100\n",
      "5359/5359 [==============================] - 1s 267us/step - loss: 0.3362 - accuracy: 0.8608 - val_loss: 0.3709 - val_accuracy: 0.8440\n",
      "Epoch 86/100\n",
      "5359/5359 [==============================] - 1s 271us/step - loss: 0.3359 - accuracy: 0.8604 - val_loss: 0.3713 - val_accuracy: 0.8444\n",
      "Epoch 87/100\n",
      "5359/5359 [==============================] - 1s 267us/step - loss: 0.3358 - accuracy: 0.8604 - val_loss: 0.3718 - val_accuracy: 0.8440\n",
      "Epoch 88/100\n",
      "5359/5359 [==============================] - 1s 268us/step - loss: 0.3358 - accuracy: 0.8600 - val_loss: 0.3704 - val_accuracy: 0.8432\n",
      "Epoch 89/100\n",
      "5359/5359 [==============================] - 1s 264us/step - loss: 0.3358 - accuracy: 0.8593 - val_loss: 0.3710 - val_accuracy: 0.8444\n",
      "Epoch 90/100\n",
      "5359/5359 [==============================] - 1s 264us/step - loss: 0.3358 - accuracy: 0.8600 - val_loss: 0.3708 - val_accuracy: 0.8440\n",
      "Epoch 91/100\n",
      "5359/5359 [==============================] - 1s 264us/step - loss: 0.3356 - accuracy: 0.8606 - val_loss: 0.3714 - val_accuracy: 0.8440\n",
      "Epoch 92/100\n",
      "5359/5359 [==============================] - 1s 265us/step - loss: 0.3355 - accuracy: 0.8600 - val_loss: 0.3706 - val_accuracy: 0.8440\n",
      "Epoch 93/100\n",
      "5359/5359 [==============================] - 1s 269us/step - loss: 0.3356 - accuracy: 0.8617 - val_loss: 0.3710 - val_accuracy: 0.8425\n",
      "Epoch 94/100\n",
      "5359/5359 [==============================] - 1s 267us/step - loss: 0.3355 - accuracy: 0.8608 - val_loss: 0.3709 - val_accuracy: 0.8444\n",
      "Epoch 95/100\n",
      "5359/5359 [==============================] - 1s 265us/step - loss: 0.3353 - accuracy: 0.8610 - val_loss: 0.3717 - val_accuracy: 0.8432\n",
      "Epoch 96/100\n",
      "5359/5359 [==============================] - 1s 264us/step - loss: 0.3350 - accuracy: 0.8604 - val_loss: 0.3704 - val_accuracy: 0.8448\n",
      "Epoch 97/100\n",
      "5359/5359 [==============================] - 1s 268us/step - loss: 0.3355 - accuracy: 0.8615 - val_loss: 0.3706 - val_accuracy: 0.8436\n",
      "Epoch 98/100\n",
      "5359/5359 [==============================] - 1s 263us/step - loss: 0.3353 - accuracy: 0.8608 - val_loss: 0.3709 - val_accuracy: 0.8429\n",
      "Epoch 99/100\n",
      "5359/5359 [==============================] - 1s 267us/step - loss: 0.3352 - accuracy: 0.8630 - val_loss: 0.3711 - val_accuracy: 0.8432\n",
      "Epoch 100/100\n",
      "5359/5359 [==============================] - 1s 268us/step - loss: 0.3350 - accuracy: 0.8612 - val_loss: 0.3701 - val_accuracy: 0.8448\n",
      "dict_keys(['val_loss', 'val_accuracy', 'loss', 'accuracy'])\n"
     ]
    }
   ],
   "source": [
    "# Compiling the ANN\n",
    "classifier.compile(optimizer = 'Adamax', loss = 'binary_crossentropy', metrics = ['accuracy'])\n",
    "\n",
    "# Fitting the ANN to the Training set\n",
    "model_history=classifier.fit(X_train, y_train,validation_split=0.33, batch_size = 10, nb_epoch = 100)\n",
    "\n",
    "# list all data in history\n",
    "\n",
    "print(model_history.history.keys())"
   ]
  },
  {
   "cell_type": "code",
   "execution_count": 14,
   "metadata": {},
   "outputs": [
    {
     "data": {
      "image/png": "[encoded data removed]",
      "text/plain": [
       "<Figure size 432x288 with 1 Axes>"
      ]
     },
     "metadata": {
      "needs_background": "light"
     },
     "output_type": "display_data"
    }
   ],
   "source": [
    "# summarize history for accuracy\n",
    "plt.plot(model_history.history['accuracy'])\n",
    "plt.plot(model_history.history['val_accuracy'])\n",
    "plt.title('model accuracy')\n",
    "plt.ylabel('accuracy')\n",
    "plt.xlabel('epoch')\n",
    "plt.legend(['train', 'test'], loc='upper left')\n",
    "plt.show()"
   ]
  },
  {
   "cell_type": "code",
   "execution_count": 15,
   "metadata": {},
   "outputs": [
    {
     "data": {
      "image/png": "[encoded data removed]",
      "text/plain": [
       "<Figure size 432x288 with 1 Axes>"
      ]
     },
     "metadata": {
      "needs_background": "light"
     },
     "output_type": "display_data"
    }
   ],
   "source": [
    "# summarize history for loss\n",
    "plt.plot(model_history.history['loss'])\n",
    "plt.plot(model_history.history['val_loss'])\n",
    "plt.title('model loss')\n",
    "plt.ylabel('loss')\n",
    "plt.xlabel('epoch')\n",
    "plt.legend(['train', 'test'], loc='upper left')\n",
    "plt.show()"
   ]
  },
  {
   "cell_type": "code",
   "execution_count": 16,
   "metadata": {},
   "outputs": [],
   "source": [
    "# Predicting the Test set results\n",
    "y_pred = classifier.predict(X_test)\n",
    "y_pred = (y_pred > 0.5)"
   ]
  },
  {
   "cell_type": "code",
   "execution_count": 17,
   "metadata": {},
   "outputs": [],
   "source": [
    "# Making the Confusion Matrix\n",
    "from sklearn.metrics import confusion_matrix\n",
    "cm = confusion_matrix(y_test, y_pred)"
   ]
  },
  {
   "cell_type": "code",
   "execution_count": 18,
   "metadata": {},
   "outputs": [],
   "source": [
    "# Calculate the Accuracy\n",
    "from sklearn.metrics import accuracy_score\n",
    "score=accuracy_score(y_test,y_pred)\n"
   ]
  },
  {
   "cell_type": "code",
   "execution_count": 19,
   "metadata": {},
   "outputs": [
    {
     "data": {
      "text/plain": [
       "array([[1526,   69],\n",
       "       [ 216,  189]], dtype=int64)"
      ]
     },
     "execution_count": 19,
     "metadata": {},
     "output_type": "execute_result"
    }
   ],
   "source": [
    "cm"
   ]
  },
  {
   "cell_type": "code",
   "execution_count": 20,
   "metadata": {},
   "outputs": [
    {
     "data": {
      "text/plain": [
       "0.8575"
      ]
     },
     "execution_count": 20,
     "metadata": {},
     "output_type": "execute_result"
    }
   ],
   "source": [
    "score"
   ]
  },
  {
   "cell_type": "code",
   "execution_count": null,
   "metadata": {},
   "outputs": [],
   "source": []
  }
 ],
 "metadata": {
  "kernelspec": {
   "display_name": "Python 3",
   "language": "python",
   "name": "python3"
  },
  "language_info": {
   "codemirror_mode": {
    "name": "ipython",
    "version": 3
   },
   "file_extension": ".py",
   "mimetype": "text/x-python",
   "name": "python",
   "nbconvert_exporter": "python",
   "pygments_lexer": "ipython3",
   "version": "3.7.6"
  }
 },
 "nbformat": 4,
 "nbformat_minor": 4
}
